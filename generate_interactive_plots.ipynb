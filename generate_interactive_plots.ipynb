{
 "cells": [
  {
   "cell_type": "markdown",
   "id": "fda1d34c-8449-43f5-824a-4f2ce8996c44",
   "metadata": {},
   "source": [
    "# Generate Interactive Escape Plots\n",
    "\n",
    "This notebook uses data from Adam Dingens' analysis of deep mutational scanning of HIV Envelope BG505 using broad human sera to generate interactive escape plots. These plots are then saved. "
   ]
  },
  {
   "cell_type": "markdown",
   "id": "027250cc-9711-495a-92ed-3f044567d94f",
   "metadata": {},
   "source": [
    "## Import libraries "
   ]
  },
  {
   "cell_type": "code",
   "execution_count": 1,
   "id": "f220470d-fd49-4a5e-a4ad-1a4d275b981a",
   "metadata": {},
   "outputs": [],
   "source": [
    "import pandas as pd\n",
    "import polyclonal"
   ]
  },
  {
   "cell_type": "markdown",
   "id": "85524003-3976-4f1c-9e57-0591e9532258",
   "metadata": {},
   "source": [
    "## Generate plots\n",
    "\n",
    "For each escape plot, we are plotting the mean escape for each mutation across replicates. "
   ]
  },
  {
   "cell_type": "code",
   "execution_count": 2,
   "id": "dee3c11a-c701-4a76-8f68-a5d1c127a90a",
   "metadata": {},
   "outputs": [],
   "source": [
    "serum_list = [\n",
    "    'IDC561',\n",
    "    'IDC0337',\n",
    "    'IDF141',\n",
    "    'IDC0396',\n",
    "    'IDF147',\n",
    "    'IDF033',\n",
    "    'IDF065',\n",
    "    'IDC0245',\n",
    "    'IDC0136',\n",
    "    'IDC0546',\n",
    "    'IDC403',\n",
    "    'IDC0518',\n",
    "    'IDC208',\n",
    "    'IDC0513',\n",
    "    'IDC0191']\n",
    "for serum in serum_list:\n",
    "    data = pd.read_csv(f'adingens_analysis/results/diffsel/summary_{serum}-meanmutdiffsel.csv')\n",
    "    data = data.dropna()\n",
    "    data['epitope'] = 1\n",
    "    data['mutant'] = data['mutation']\n",
    "    data['differential_selection'] = data['mutdiffsel']\n",
    "    escape_chart = polyclonal.plot.lineplot_and_heatmap(data_df=data, \n",
    "                                     stat_col='differential_selection',\n",
    "                                     category_col='epitope')\n",
    "    if serum == 'IDC0191':\n",
    "        escape_chart.save(f'interactive_plots/IDE0191_escape_plot.html') # mis-labeled in original analysis\n",
    "    else: \n",
    "        escape_chart.save(f'interactive_plots/{serum}_escape_plot.html')"
   ]
  },
  {
   "cell_type": "code",
   "execution_count": null,
   "id": "90f91382-3976-48ea-a862-8897264fd318",
   "metadata": {},
   "outputs": [],
   "source": []
  }
 ],
 "metadata": {
  "kernelspec": {
   "display_name": "Python 3 (ipykernel)",
   "language": "python",
   "name": "python3"
  },
  "language_info": {
   "codemirror_mode": {
    "name": "ipython",
    "version": 3
   },
   "file_extension": ".py",
   "mimetype": "text/x-python",
   "name": "python",
   "nbconvert_exporter": "python",
   "pygments_lexer": "ipython3",
   "version": "3.11.3"
  }
 },
 "nbformat": 4,
 "nbformat_minor": 5
}
