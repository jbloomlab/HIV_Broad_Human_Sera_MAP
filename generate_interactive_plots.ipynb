{
 "cells": [
  {
   "cell_type": "markdown",
   "id": "a6107101",
   "metadata": {},
   "source": [
    "# Generate Interactive Escape Plots\n",
    "\n",
    "This notebook uses data from Adam Dingens' analysis of deep mutational scanning of HIV Envelope BG505 using broad human sera to generate interactive escape plots. These plots are then saved. "
   ]
  },
  {
   "cell_type": "markdown",
   "id": "1e6be483",
   "metadata": {},
   "source": [
    "## Import libraries "
   ]
  },
  {
   "cell_type": "code",
   "execution_count": 1,
   "id": "769580b3",
   "metadata": {},
   "outputs": [],
   "source": [
    "import pandas as pd\n",
    "import polyclonal"
   ]
  },
  {
   "cell_type": "markdown",
   "id": "8b5b9d7f",
   "metadata": {},
   "source": [
    "## Generate plots\n",
    "\n",
    "For each escape plot, we are plotting the mean escape for each mutation across replicates. "
   ]
  },
  {
   "cell_type": "code",
   "execution_count": 7,
   "id": "9a211d34",
   "metadata": {},
   "outputs": [],
   "source": [
    "serum_list = [\n",
    "    'IDC561',\n",
    "    'IDC0337',\n",
    "    'IDF141',\n",
    "    'IDC0396',\n",
    "    'IDF147',\n",
    "    'IDF033',\n",
    "    'IDF065',\n",
    "    'IDC0245',\n",
    "    'IDC0136',\n",
    "    'IDC0546',\n",
    "    'IDC403',\n",
    "    'IDC0518',\n",
    "    'IDC208',\n",
    "    'IDC0513',\n",
    "    'IDC0191']\n",
    "for (metric, rename) in [('mutdiffsel', 'differential_selection'), ('mutfracsurvive', 'fraction_surviving')]: \n",
    "    for serum in serum_list:\n",
    "        if metric == 'mutdiffsel':\n",
    "            data = pd.read_csv(f'adingens_analysis/results/diffsel/summary_{serum}-mean{metric}.csv')\n",
    "        else: \n",
    "            data = pd.read_csv(f'results/fracsurviving/summary_{serum}-mean{metric}.csv')\n",
    "        data = data.dropna()\n",
    "        data['epitope'] = 1\n",
    "        data['mutant'] = data['mutation']\n",
    "        data[rename] = data[metric]\n",
    "        # generate full interactive plots\n",
    "        escape_chart = polyclonal.plot.lineplot_and_heatmap(data_df=data, \n",
    "                                         stat_col=rename,\n",
    "                                         category_col='epitope')\n",
    "        if serum == 'IDC0191':\n",
    "            escape_chart.save(f'interactive_plots/{rename}/escape_plots/IDE0191_escape_plot.html') # mis-labeled in original analysis\n",
    "        else: \n",
    "            escape_chart.save(f'interactive_plots/{rename}/escape_plots/{serum}_escape_plot.html')\n",
    "        # generate only line plots\n",
    "        escape_chart = polyclonal.plot.lineplot_and_heatmap(data_df=data, \n",
    "                                         stat_col=rename,\n",
    "                                         category_col='epitope',\n",
    "                                         show_zoombar=False, \n",
    "                                         show_heatmap=False,)\n",
    "        if serum == 'IDC0191':\n",
    "            escape_chart.save(f'interactive_plots/{rename}/line_plots/IDE0191_line_plot.html') # mis-labeled in original analysis\n",
    "        else: \n",
    "            escape_chart.save(f'interactive_plots/{rename}/line_plots/{serum}_line_plot.html')"
   ]
  },
  {
   "cell_type": "code",
   "execution_count": null,
   "id": "24344631",
   "metadata": {},
   "outputs": [],
   "source": []
  }
 ],
 "metadata": {
  "kernelspec": {
   "display_name": "Python 3 (ipykernel)",
   "language": "python",
   "name": "python3"
  },
  "language_info": {
   "codemirror_mode": {
    "name": "ipython",
    "version": 3
   },
   "file_extension": ".py",
   "mimetype": "text/x-python",
   "name": "python",
   "nbconvert_exporter": "python",
   "pygments_lexer": "ipython3",
   "version": "3.11.3"
  }
 },
 "nbformat": 4,
 "nbformat_minor": 5
}
